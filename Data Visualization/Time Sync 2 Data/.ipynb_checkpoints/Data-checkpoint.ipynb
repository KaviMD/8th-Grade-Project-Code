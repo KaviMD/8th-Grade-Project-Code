{
 "cells": [
  {
   "cell_type": "code",
   "execution_count": 2,
   "metadata": {},
   "outputs": [],
   "source": [
    "# Pandas for managing datasets\n",
    "import pandas as pd\n",
    "\n",
    "# Matplotlib for additional customization\n",
    "from matplotlib import pyplot as plt\n",
    "#%matplotlib inline\n",
    "\n",
    "# Seaborn for plotting and styling\n",
    "import seaborn as sns\n",
    "\n",
    "# Read dataset\n",
    "df = pd.read_csv('DataParsed.csv', index_col=0)\n",
    "\n",
    "accel1 = plt.plot(df['accel1'], label='X axis')\n",
    "accel2 = plt.plot(df['accel2'], label='Y axis')\n",
    "accel3 = plt.plot(df['accel3'], label='Z axis')\n",
    "gyro1 = plt.plot(df['gyro1'], label='X rotation')\n",
    "gyro2 = plt.plot(df['gyro2'], label='Y rotation')\n",
    "gyro3 = plt.plot(df['gyro3'], label='Z rotation')\n",
    "\n",
    "leg = plt.legend(prop={'size': 40})\n",
    "\n",
    "for line in leg.get_lines():\n",
    "    line.set_linewidth(10)\n",
    "\n",
    "fig_size = [40,40]\n",
    "plt.rcParams[\"figure.figsize\"] = fig_size\n",
    "\n",
    "#plt.legend((accel1, accel2, accel3, gyro1, gyro2, gyro3)('X axis','Y axis','Z axis','X rotation','Y rotation','Z rotation'))"
   ]
  },
  {
   "cell_type": "code",
   "execution_count": null,
   "metadata": {},
   "outputs": [],
   "source": []
  }
 ],
 "metadata": {
  "kernelspec": {
   "display_name": "Python 2",
   "language": "python",
   "name": "python2"
  },
  "language_info": {
   "codemirror_mode": {
    "name": "ipython",
    "version": 2
   },
   "file_extension": ".py",
   "mimetype": "text/x-python",
   "name": "python",
   "nbconvert_exporter": "python",
   "pygments_lexer": "ipython2",
   "version": "2.7.14"
  }
 },
 "nbformat": 4,
 "nbformat_minor": 2
}

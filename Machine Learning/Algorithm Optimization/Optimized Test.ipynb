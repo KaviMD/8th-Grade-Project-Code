{
 "cells": [
  {
   "cell_type": "code",
   "execution_count": 2,
   "metadata": {},
   "outputs": [],
   "source": [
    "# Pandas for managing datasets\n",
    "import pandas as pd\n",
    "\n",
    "# Matplotlib for additional customization\n",
    "from matplotlib import pyplot as plt\n",
    "%matplotlib inline\n",
    "\n",
    "# Seaborn for plotting and styling\n",
    "import seaborn as sns\n",
    "\n",
    "# Numpy and Random for math\n",
    "import numpy as np\n",
    "import random as rand\n",
    "\n",
    "# Scikit Learn for Machine Learning\n",
    "import sklearn\n",
    "from sklearn.ensemble import RandomForestClassifier\n",
    "from sklearn.linear_model import LogisticRegression\n",
    "from sklearn.naive_bayes import GaussianNB\n",
    "from sklearn import metrics"
   ]
  },
  {
   "cell_type": "code",
   "execution_count": 3,
   "metadata": {},
   "outputs": [
    {
     "name": "stdout",
     "output_type": "stream",
     "text": [
      "[1, 7, 5, 6, 3, 2, 0, 8, 4, 9]\n"
     ]
    }
   ],
   "source": [
    "items = rand.sample([0, 1, 2, 3, 4, 5, 6, 7, 8, 9], 10)\n",
    "print items"
   ]
  },
  {
   "cell_type": "code",
   "execution_count": 8,
   "metadata": {},
   "outputs": [
    {
     "name": "stderr",
     "output_type": "stream",
     "text": [
      "/usr/local/lib/python2.7/site-packages/ipykernel_launcher.py:17: DataConversionWarning: A column-vector y was passed when a 1d array was expected. Please change the shape of y to (n_samples,), for example using ravel().\n"
     ]
    },
    {
     "name": "stdout",
     "output_type": "stream",
     "text": [
      "             precision    recall  f1-score   support\n",
      "\n",
      "        2.0       1.00      1.00      1.00        81\n",
      "        3.0       1.00      1.00      1.00        91\n",
      "        4.0       0.99      1.00      0.99        84\n",
      "        5.0       1.00      0.98      0.99        49\n",
      "\n",
      "avg / total       1.00      1.00      1.00       305\n",
      "\n",
      "[[81  0  0  0]\n",
      " [ 0 91  0  0]\n",
      " [ 0  0 84  0]\n",
      " [ 0  0  1 48]]\n",
      "[ 2.  4.  2.  2.  5.  4.  3.  3.  3.  3.  3.  3.  3.  3.  3.  3.  3.  3.\n",
      "  3.  3.  3.  3.  3.  3.  3.  4.  2.  2.  2.  2.  2.  2.  2.  2.  2.  2.\n",
      "  2.  2.  2.  2.  2.  2.  2.  4.  4.  4.  4.  4.  4.  4.  4.  4.  5.  5.\n",
      "  2.  2.  2.  2.  2.  2.  2.  2.  2.  2.  2.  2.  2.  2.  2.  2.  2.  2.\n",
      "  2.  2.  2.  2.  2.  2.  2.  2.  2.  2.  2.  2.  2.  2.  2.  2.  2.  2.\n",
      "  2.  2.  2.  2.  2.  2.  2.  2.  2.  2.  2.  2.  2.  2.  2.  2.  2.  2.\n",
      "  2.  2.  2.  2.  2.  2.  2.  2.  2.  2.  2.  2.  2.  2.  2.  2.  2.  2.\n",
      "  2.  2.  2.  2.  2.  2.  2.  2.  2.  2.  2.  2.  2.  2.  2.  2.  2.  2.\n",
      "  2.  2.  2.  2.  2.  2.  2.  2.  2.  2.  2.  2.  2.  2.  2.  3.  3.  3.\n",
      "  3.  3.  3.  3.  3.  3.  3.  3.  3.  3.  3.  3.  3.  3.  3.  3.  3.  3.\n",
      "  3.  3.  3.  3.  3.  3.  3.  3.  3.  3.  3.  3.  3.  3.  3.  3.  3.  3.\n",
      "  3.  3.  3.  3.  3.  3.  3.  3.  3.  3.  3.  3.  3.  3.  3.  3.  3.  3.\n",
      "  3.  3.  3.  3.  3.  3.  4.  4.  4.  4.  4.  4.  4.  4.  4.  4.  4.  4.\n",
      "  4.  4.  4.  4.  4.  4.  4.  4.  4.  4.  4.  4.  4.  4.  4.  4.  4.  4.\n",
      "  4.  4.  4.  4.  4.  4.  5.  5.  5.  5.  5.  5.  5.  5.  5.  5.  5.  5.\n",
      "  5.  5.  5.  5.  5.  5.  5.  5.]\n"
     ]
    }
   ],
   "source": [
    "def clean_dataset(df):\n",
    "    assert isinstance(df, pd.DataFrame), \"df needs to be a pd.DataFrame\"\n",
    "    df.dropna(inplace=True)\n",
    "    indices_to_keep = ~df.isin([np.nan, np.inf, -np.inf]).any(1)\n",
    "    return df[indices_to_keep].astype(np.float64)\n",
    "\n",
    "data = pd.read_csv('Data/Windows.csv')\n",
    "data = clean_dataset(data)\n",
    "#print data.head()\n",
    "dataColumns = ['mg1','stdevg1','energyg1','mg2','stdevg2','energyg2','mg3','stdevg3','energyg3','ma1','stdeva1','energya1','ma2','stdeva2','energya2','ma3','stdeva3','energya3','g1g2','g1g3','g1a1','g1a2','g1a3','g2g3','g2a1','g2a2','g2a3','g3a1','g3a2','g3a3','a1a2','a1a3','a2a3']\n",
    "trainDataValues = data.query('(participantID==0 or participantID==1) and windowSize==39 and label!=1').filter(items=dataColumns)\n",
    "trainLabels = data.query('(participantID==0 or participantID==1) and windowSize==39 and label!=1').filter(items=['label'])\n",
    "testDataValues = data.query('participantID==3 and windowSize==39 and label!=1').filter(items=dataColumns)\n",
    "testLabels = data.query('participantID==3 and windowSize==39 and label!=1').filter(items=['label'])\n",
    "\n",
    "mnb = RandomForestClassifier(n_estimators=100, max_depth=10, random_state=0)\n",
    "mnb.fit(trainDataValues, trainLabels)\n",
    "predicted = mnb.predict(testDataValues)\n",
    "print(metrics.classification_report(testLabels, predicted))\n",
    "print(metrics.confusion_matrix(testLabels, predicted))\n",
    "\n",
    "'''\n",
    "testAccuracy = pd.read_csv(\"ValidationData.csv\")\n",
    "tA = testAccuracy.filter(items=dataColumns)\n",
    "print mnb.predict(tA)\n",
    "tA[\"python_predict\"] = mnb.predict(tA)\n",
    "tA.to_csv(\"ValidationResult.csv\",index=False)\n",
    "'''"
   ]
  },
  {
   "cell_type": "code",
   "execution_count": null,
   "metadata": {},
   "outputs": [],
   "source": [
    "y = chart['accuracy']\n",
    "x = chart['windowSize']\n",
    "plt.plot(x, y)\n",
    "plt.ylim(0, 1)\n",
    "plt.xlabel('Window Size')\n",
    "plt.ylabel('Accuracy')"
   ]
  }
 ],
 "metadata": {
  "kernelspec": {
   "display_name": "Python 2",
   "language": "python",
   "name": "python2"
  },
  "language_info": {
   "codemirror_mode": {
    "name": "ipython",
    "version": 2
   },
   "file_extension": ".py",
   "mimetype": "text/x-python",
   "name": "python",
   "nbconvert_exporter": "python",
   "pygments_lexer": "ipython2",
   "version": "2.7.14"
  }
 },
 "nbformat": 4,
 "nbformat_minor": 2
}

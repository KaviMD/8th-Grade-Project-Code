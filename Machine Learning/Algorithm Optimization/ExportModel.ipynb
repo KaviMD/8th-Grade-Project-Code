{
 "cells": [
  {
   "cell_type": "code",
   "execution_count": 1,
   "metadata": {},
   "outputs": [],
   "source": [
    "# Pandas for managing datasets\n",
    "import pandas as pd\n",
    "\n",
    "# Matplotlib for additional customization\n",
    "from matplotlib import pyplot as plt\n",
    "%matplotlib inline\n",
    "\n",
    "# Seaborn for plotting and styling\n",
    "import seaborn as sns\n",
    "\n",
    "# Numpy and Random for math\n",
    "import numpy as np\n",
    "import random as rand\n",
    "\n",
    "# Scikit Learn for Machine Learning\n",
    "import sklearn\n",
    "from sklearn.ensemble import RandomForestClassifier\n",
    "from sklearn.linear_model import LogisticRegression\n",
    "from sklearn.naive_bayes import GaussianNB\n",
    "from sklearn import metrics\n",
    "from sklearn.externals import joblib\n",
    "from sklearn_porter import Porter"
   ]
  },
  {
   "cell_type": "code",
   "execution_count": 2,
   "metadata": {},
   "outputs": [
    {
     "name": "stderr",
     "output_type": "stream",
     "text": [
      "/usr/local/lib/python2.7/site-packages/ipykernel_launcher.py:15: DataConversionWarning: A column-vector y was passed when a 1d array was expected. Please change the shape of y to (n_samples,), for example using ravel().\n",
      "  from ipykernel import kernelapp as app\n"
     ]
    },
    {
     "name": "stdout",
     "output_type": "stream",
     "text": [
      "[ 2.]\n"
     ]
    },
    {
     "data": {
      "text/plain": [
       "['estimator.java']"
      ]
     },
     "execution_count": 2,
     "metadata": {},
     "output_type": "execute_result"
    }
   ],
   "source": [
    "def clean_dataset(df):\n",
    "    assert isinstance(df, pd.DataFrame), \"df needs to be a pd.DataFrame\"\n",
    "    df.dropna(inplace=True)\n",
    "    indices_to_keep = ~df.isin([np.nan, np.inf, -np.inf]).any(1)\n",
    "    return df[indices_to_keep].astype(np.float64)\n",
    "\n",
    "data = pd.read_csv('Data/JavaEnergy.csv')\n",
    "data = clean_dataset(data)\n",
    "#print data.head()\n",
    "dataColumns = ['mg1','stdevg1','energyg1','mg2','stdevg2','energyg2','mg3','stdevg3','energyg3','ma1','stdeva1','energya1','ma2','stdeva2','energya2','ma3','stdeva3','energya3','g1g2','g1g3','g1a1','g1a2','g1a3','g2g3','g2a1','g2a2','g2a3','g3a1','g3a2','g3a3','a1a2','a1a3','a2a3']\n",
    "trainDataValues = data.query('windowSize==63 and label!=1').filter(items=dataColumns)\n",
    "trainLabels = data.query('windowSize==63 and label!=1').filter(items=['label'])\n",
    "\n",
    "clf = RandomForestClassifier(n_estimators=100, max_depth=5, random_state=0)\n",
    "clf.fit(trainDataValues, trainLabels)\n",
    "print clf.predict([[-0.00874351065548,0.00861728432134,0.0,1.41236796137e-05,0.0214502382242,0.0,-0.0104005207559,0.00798314695786,0.0,5.12809497591,0.085524341519,1515.0,1.29487358956,0.0333889731478,63.0,-9.15868607778,0.046676554223,5103.0,0.412226950146,0.595163804029,0.483925650458,0.377148099453,0.535301701544,0.272241442971,0.440749441442,0.451275610534,0.49036633361,0.55118409546,0.459811022156,0.477551214333,0.569040390914,0.569040390914,0.686524254736]])\n",
    "filename = 'finalized_model.sav'\n",
    "joblib.dump(clf, filename)\n",
    "\n",
    "d = [-0.00874351065548,0.00861728432134,0.0,1.41236796137e-05,0.0214502382242,0.0,-0.0104005207559,0.00798314695786,0.0,5.12809497591,0.085524341519,1515.0,1.29487358956,0.0333889731478,63.0,-9.15868607778,0.046676554223,5103.0,0.412226950146,0.595163804029,0.483925650458,0.377148099453,0.535301701544,0.272241442971,0.440749441442,0.451275610534,0.49036633361,0.55118409546,0.459811022156,0.477551214333,0.569040390914,0.569040390914,0.686524254736]\n",
    "porter = Porter(clf, language='java')\n",
    "output = porter.export(embed_data=True)\n",
    "joblib.dump(output, 'estimator.java')\n",
    "#print(output)"
   ]
  },
  {
   "cell_type": "code",
   "execution_count": 22,
   "metadata": {},
   "outputs": [
    {
     "ename": "TypeError",
     "evalue": "expected a string or other character buffer object",
     "output_type": "error",
     "traceback": [
      "\u001b[0;31m---------------------------------------------------------------------------\u001b[0m",
      "\u001b[0;31mTypeError\u001b[0m                                 Traceback (most recent call last)",
      "\u001b[0;32m<ipython-input-22-4809fcc9b7e9>\u001b[0m in \u001b[0;36m<module>\u001b[0;34m()\u001b[0m\n\u001b[1;32m     14\u001b[0m \u001b[0;31m#y_java = porter.predict([1., 2., 3., 4.])\u001b[0m\u001b[0;34m\u001b[0m\u001b[0;34m\u001b[0m\u001b[0m\n\u001b[1;32m     15\u001b[0m \u001b[0;31m# Accuracy:\u001b[0m\u001b[0;34m\u001b[0m\u001b[0;34m\u001b[0m\u001b[0m\n\u001b[0;32m---> 16\u001b[0;31m \u001b[0mintegrity\u001b[0m \u001b[0;34m=\u001b[0m \u001b[0mporter\u001b[0m\u001b[0;34m.\u001b[0m\u001b[0mintegrity_score\u001b[0m\u001b[0;34m(\u001b[0m\u001b[0mX\u001b[0m\u001b[0;34m)\u001b[0m\u001b[0;34m\u001b[0m\u001b[0m\n\u001b[0m\u001b[1;32m     17\u001b[0m \u001b[0;32mprint\u001b[0m\u001b[0;34m(\u001b[0m\u001b[0mintegrity\u001b[0m\u001b[0;34m)\u001b[0m  \u001b[0;31m# 1.0\u001b[0m\u001b[0;34m\u001b[0m\u001b[0m\n",
      "\u001b[0;32m/usr/local/lib/python2.7/site-packages/sklearn_porter/Porter.pyc\u001b[0m in \u001b[0;36mintegrity_score\u001b[0;34m(self, X, method, normalize, num_format)\u001b[0m\n\u001b[1;32m    438\u001b[0m             \u001b[0my_true\u001b[0m \u001b[0;34m=\u001b[0m \u001b[0mself\u001b[0m\u001b[0;34m.\u001b[0m\u001b[0mestimator\u001b[0m\u001b[0;34m.\u001b[0m\u001b[0mpredict\u001b[0m\u001b[0;34m(\u001b[0m\u001b[0mX\u001b[0m\u001b[0;34m)\u001b[0m\u001b[0;34m\u001b[0m\u001b[0m\n\u001b[1;32m    439\u001b[0m             y_pred = self.predict(X, tnp_dir='tmp_integrity_score',\n\u001b[0;32m--> 440\u001b[0;31m                                   keep_tmp_dir=True, num_format=num_format)\n\u001b[0m\u001b[1;32m    441\u001b[0m             \u001b[0;32mreturn\u001b[0m \u001b[0maccuracy_score\u001b[0m\u001b[0;34m(\u001b[0m\u001b[0my_true\u001b[0m\u001b[0;34m,\u001b[0m \u001b[0my_pred\u001b[0m\u001b[0;34m,\u001b[0m \u001b[0mnormalize\u001b[0m\u001b[0;34m=\u001b[0m\u001b[0mnormalize\u001b[0m\u001b[0;34m)\u001b[0m\u001b[0;34m\u001b[0m\u001b[0m\n\u001b[1;32m    442\u001b[0m \u001b[0;34m\u001b[0m\u001b[0m\n",
      "\u001b[0;32m/usr/local/lib/python2.7/site-packages/sklearn_porter/Porter.pyc\u001b[0m in \u001b[0;36mpredict\u001b[0;34m(self, X, class_name, method_name, tnp_dir, keep_tmp_dir, num_format)\u001b[0m\n\u001b[1;32m    361\u001b[0m         \u001b[0mtarget_file\u001b[0m \u001b[0;34m=\u001b[0m \u001b[0mos\u001b[0m\u001b[0;34m.\u001b[0m\u001b[0mpath\u001b[0m\u001b[0;34m.\u001b[0m\u001b[0mjoin\u001b[0m\u001b[0;34m(\u001b[0m\u001b[0mtnp_dir\u001b[0m\u001b[0;34m,\u001b[0m \u001b[0mfilename\u001b[0m\u001b[0;34m)\u001b[0m\u001b[0;34m\u001b[0m\u001b[0m\n\u001b[1;32m    362\u001b[0m         \u001b[0;32mwith\u001b[0m \u001b[0mopen\u001b[0m\u001b[0;34m(\u001b[0m\u001b[0mtarget_file\u001b[0m\u001b[0;34m,\u001b[0m \u001b[0mstr\u001b[0m\u001b[0;34m(\u001b[0m\u001b[0;34m'w'\u001b[0m\u001b[0;34m)\u001b[0m\u001b[0;34m)\u001b[0m \u001b[0;32mas\u001b[0m \u001b[0mfile_\u001b[0m\u001b[0;34m:\u001b[0m\u001b[0;34m\u001b[0m\u001b[0m\n\u001b[0;32m--> 363\u001b[0;31m             \u001b[0mfile_\u001b[0m\u001b[0;34m.\u001b[0m\u001b[0mwrite\u001b[0m\u001b[0;34m(\u001b[0m\u001b[0mdetails\u001b[0m\u001b[0;34m.\u001b[0m\u001b[0mget\u001b[0m\u001b[0;34m(\u001b[0m\u001b[0;34m'model'\u001b[0m\u001b[0;34m)\u001b[0m\u001b[0;34m)\u001b[0m\u001b[0;34m\u001b[0m\u001b[0m\n\u001b[0m\u001b[1;32m    364\u001b[0m \u001b[0;34m\u001b[0m\u001b[0m\n\u001b[1;32m    365\u001b[0m         \u001b[0;31m# Compilation command:\u001b[0m\u001b[0;34m\u001b[0m\u001b[0;34m\u001b[0m\u001b[0m\n",
      "\u001b[0;31mTypeError\u001b[0m: expected a string or other character buffer object"
     ]
    }
   ],
   "source": [
    "from sklearn.datasets import load_iris\n",
    "from sklearn.tree import DecisionTreeClassifier\n",
    "samples = load_iris()\n",
    "X, y = samples.data, samples.target\n",
    "clf = DecisionTreeClassifier()\n",
    "clf.fit(X, y)\n",
    "\n",
    "# Export:\n",
    "porter = Porter(clf, language='java')\n",
    "output = porter.export(embed_data=True)\n",
    "joblib.dump(output, 'test.java')\n",
    "#print porter.port(language='java')\n",
    "#Y_java = porter.predict(X)\n",
    "#y_java = porter.predict(X[0])\n",
    "#y_java = porter.predict([1., 2., 3., 4.])\n",
    "# Accuracy:\n",
    "integrity = porter.integrity_score(X)\n",
    "print(integrity)  # 1.0"
   ]
  },
  {
   "cell_type": "code",
   "execution_count": null,
   "metadata": {},
   "outputs": [],
   "source": []
  }
 ],
 "metadata": {
  "kernelspec": {
   "display_name": "Python 2",
   "language": "python",
   "name": "python2"
  },
  "language_info": {
   "codemirror_mode": {
    "name": "ipython",
    "version": 2
   },
   "file_extension": ".py",
   "mimetype": "text/x-python",
   "name": "python",
   "nbconvert_exporter": "python",
   "pygments_lexer": "ipython2",
   "version": "2.7.14"
  }
 },
 "nbformat": 4,
 "nbformat_minor": 2
}
